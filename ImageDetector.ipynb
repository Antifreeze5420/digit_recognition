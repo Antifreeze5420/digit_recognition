{
 "cells": [
  {
   "cell_type": "code",
   "execution_count": 3,
   "id": "5cef8852-fd24-49a6-b206-89aa056f85f0",
   "metadata": {},
   "outputs": [],
   "source": [
    "import tensorflow as tf\n",
    "import numpy as np\n",
    "\n",
    "loaded_model = tf.keras.models.load_model('number_cnn1.keras')"
   ]
  },
  {
   "cell_type": "code",
   "execution_count": 4,
   "id": "1901c441-90f4-4eea-96df-778091fd0637",
   "metadata": {},
   "outputs": [],
   "source": [
    "def predict_image(image):\n",
    "    prediction = loaded_model.predict(image)\n",
    "    predicted_class = np.argmax(prediction, axis=1)[0]  # Get the index of the predicted class\n",
    "    return predicted_class"
   ]
  },
  {
   "cell_type": "code",
   "execution_count": 6,
   "id": "7154aa29-ff7b-45aa-a909-7841c014080f",
   "metadata": {},
   "outputs": [],
   "source": [
    "from PIL import Image\n",
    "def preprocess_image(image_path):\n",
    "    image = Image.open(image_path)\n",
    "    image = image.convert(\"L\")\n",
    "    #image = image.convert(\"RGB\")\n",
    "    image = image.rotate(-90)\n",
    "    threshold = 130  # Adjust this threshold value as needed, higher threshold is less filtered out.\n",
    "    image = image.point(lambda p: p > threshold and 255)\n",
    "    image = image.resize((28, 28))  # Resize image to match model input size\n",
    "    image = np.array(image) / 255.0  # Normalize pixel values to [0, 1]\n",
    "    image = 1-np.array(image)\n",
    "    image = np.expand_dims(image, axis=0)  # Add batch dimension\n",
    "    return image"
   ]
  },
  {
   "cell_type": "code",
   "execution_count": 7,
   "id": "2134fd06-c3f1-4d70-90bd-1db0618545f8",
   "metadata": {},
   "outputs": [
    {
     "name": "stdout",
     "output_type": "stream",
     "text": [
      "(1, 28, 28)\n",
      "\u001b[1m1/1\u001b[0m \u001b[32m━━━━━━━━━━━━━━━━━━━━\u001b[0m\u001b[37m\u001b[0m \u001b[1m0s\u001b[0m 312ms/step\n",
      "Predicted class: 5\n"
     ]
    }
   ],
   "source": [
    "image_path = \"IMG_2504.jpg\"\n",
    "# Preprocess the image\n",
    "preprocessed_image = preprocess_image(image_path)\n",
    "# Perform prediction\n",
    "print(preprocessed_image.shape)\n",
    "predicted_class = predict_image(preprocessed_image)\n",
    "# Print the predicted class\n",
    "print(\"Predicted class:\", predicted_class)"
   ]
  },
  {
   "cell_type": "code",
   "execution_count": 8,
   "id": "86d29fcc-6878-4d23-92fa-5e8d39a3e417",
   "metadata": {},
   "outputs": [
    {
     "ename": "NameError",
     "evalue": "name 'plt' is not defined",
     "output_type": "error",
     "traceback": [
      "\u001b[1;31m---------------------------------------------------------------------------\u001b[0m",
      "\u001b[1;31mNameError\u001b[0m                                 Traceback (most recent call last)",
      "Cell \u001b[1;32mIn[8], line 2\u001b[0m\n\u001b[0;32m      1\u001b[0m image \u001b[38;5;241m=\u001b[39m Image\u001b[38;5;241m.\u001b[39mopen(image_path)\n\u001b[1;32m----> 2\u001b[0m \u001b[43mplt\u001b[49m\u001b[38;5;241m.\u001b[39mimshow(image)\n",
      "\u001b[1;31mNameError\u001b[0m: name 'plt' is not defined"
     ]
    }
   ],
   "source": [
    "image = Image.open(image_path)\n",
    "plt.imshow(image)"
   ]
  },
  {
   "cell_type": "code",
   "execution_count": null,
   "id": "5b9e7f34-b192-4843-8749-7503d39b26fe",
   "metadata": {},
   "outputs": [],
   "source": [
    "plt.imshow(preprocessed_image.reshape((28, 28)), cmap=plt.cm.binary)"
   ]
  }
 ],
 "metadata": {
  "kernelspec": {
   "display_name": "Python 3 (ipykernel)",
   "language": "python",
   "name": "python3"
  },
  "language_info": {
   "codemirror_mode": {
    "name": "ipython",
    "version": 3
   },
   "file_extension": ".py",
   "mimetype": "text/x-python",
   "name": "python",
   "nbconvert_exporter": "python",
   "pygments_lexer": "ipython3",
   "version": "3.10.13"
  }
 },
 "nbformat": 4,
 "nbformat_minor": 5
}
